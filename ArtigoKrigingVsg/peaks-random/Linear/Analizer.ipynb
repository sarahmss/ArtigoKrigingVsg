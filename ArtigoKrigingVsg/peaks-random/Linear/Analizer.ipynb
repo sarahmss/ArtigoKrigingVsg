{
 "cells": [
  {
   "cell_type": "code",
   "execution_count": null,
   "metadata": {
    "execution": {
     "iopub.execute_input": "2024-09-15T11:54:46.479144Z",
     "iopub.status.busy": "2024-09-15T11:54:46.478580Z",
     "iopub.status.idle": "2024-09-15T11:54:46.998813Z",
     "shell.execute_reply": "2024-09-15T11:54:46.997904Z"
    }
   },
   "outputs": [],
   "source": [
    "import pandas as pd\n",
    "import numpy as np\n",
    "\n",
    "def read_excel(file_name):\n",
    "    df = pd.read_excel(file_name)\n",
    "    return df\n",
    "\n",
    "def read_txt(file_name):\n",
    "    file = open(file_name)\n",
    "    lines = file.readlines()\n",
    "    return(lines[0])"
   ]
  },
  {
   "cell_type": "code",
   "execution_count": 2,
   "metadata": {
    "execution": {
     "iopub.execute_input": "2024-09-15T11:54:47.126096Z",
     "iopub.status.busy": "2024-09-15T11:54:47.125268Z",
     "iopub.status.idle": "2024-09-15T11:54:47.133120Z",
     "shell.execute_reply": "2024-09-15T11:54:47.131735Z"
    }
   },
   "outputs": [],
   "source": [
    "import os\n",
    "import glob\n",
    "\n",
    "def get_files(subfolder, extension):\n",
    "    dir = f\"{os.getcwd()}/content/{subfolder}/\"\n",
    "    tables = glob.glob(f\"{dir}*.{extension}\")\n",
    "    return tables"
   ]
  },
  {
   "cell_type": "code",
   "execution_count": 3,
   "metadata": {
    "execution": {
     "iopub.execute_input": "2024-09-15T11:54:47.145794Z",
     "iopub.status.busy": "2024-09-15T11:54:47.142600Z",
     "iopub.status.idle": "2024-09-15T11:54:47.172931Z",
     "shell.execute_reply": "2024-09-15T11:54:47.170393Z"
    }
   },
   "outputs": [],
   "source": [
    "class Analizer:\n",
    "    def __init__(self, boundary):\n",
    "        self.results = get_files(subfolder=\"results\", extension=\"xlsx\")\n",
    "        self.results_df = pd.DataFrame()\n",
    "        self.boundary = boundary\n",
    "    \n",
    "    def has_minimum_requirements(self, df, sort_by=\"r2\"):\n",
    "        sorted_df = df.sort_values(by=sort_by, ascending=False)\n",
    "        top_r2 = sorted_df.head(1)[sort_by].values[0]\n",
    "        if top_r2 < self.boundary:\n",
    "            return False\n",
    "        return True\n",
    "    \n",
    "    def concatenate_df(self, df, architecture):\n",
    "        if self.has_minimum_requirements(df):\n",
    "            df['Architecture'] = architecture\n",
    "            df = df.rename(columns={'Unnamed: 0': 'model'})\n",
    "            self.results_df = pd.concat([self.results_df, df], ignore_index=True) \n",
    "\n",
    "    def create_results_df(self):\n",
    "        for file in self.results:\n",
    "            df = read_excel(file)\n",
    "            architecture = read_txt(file.replace(\".xlsx\", \".txt\"))\n",
    "            self.concatenate_df(df, architecture)\n",
    "\n",
    "\n",
    "    def keep_random_models(self, n_models=3):\n",
    "        # Extract block part from 'model' column\n",
    "        self.results_df['block'] = self.results_df['model'].apply(lambda x: '_'.join(x.split('_')[1:3]))\n",
    "        \n",
    "        # Group by 'block' and keep n_models randomly from each group\n",
    "        def select_random_models(group):\n",
    "            return group.sample(n=min(n_models, len(group)), random_state=1)\n",
    "        \n",
    "        # Apply the function and ensure grouping columns are excluded from the final DataFrame\n",
    "        grouped = self.results_df.groupby('block', group_keys=False).apply(select_random_models)\n",
    "        self.results_df = grouped.reset_index(drop=True).drop(columns=['block'])\n",
    "\n",
    "    def clean_folder(self, subfolder, extension, remove_last=True):\n",
    "        files = get_files(subfolder, extension)\n",
    "        models = self.results_df[\"model\"]\n",
    "        if (remove_last):\n",
    "            models = models.apply(lambda x: '_'.join(x.rsplit('_', 1)[:-1]))\n",
    "        for file in files:\n",
    "            file_name = os.path.basename(file).split('.')[0]\n",
    "            file_parts = file_name.split('_')            \n",
    "            dataset_model = f\"model_{file_parts[1]}_{file_parts[2]}\" \n",
    "            if (remove_last == False):\n",
    "                dataset_model = (f\"{dataset_model}_{file_parts[3]}\")\n",
    "            if dataset_model not in models.values:\n",
    "                os.remove(file)   \n",
    "        \n",
    "    def Analize(self):\n",
    "        self.create_results_df()\n",
    "        self.keep_random_models()\n",
    "        self.results_df = self.results_df.sort_values(by=\"r2_sup\", ascending=False, ignore_index=True)\n",
    "        self.results_df.to_excel(f\"./results/better_results.xlsx\", index=True)\n",
    "        display(self.results_df)\n"
   ]
  },
  {
   "cell_type": "code",
   "execution_count": 4,
   "metadata": {
    "execution": {
     "iopub.execute_input": "2024-09-15T11:54:47.190925Z",
     "iopub.status.busy": "2024-09-15T11:54:47.188966Z",
     "iopub.status.idle": "2024-09-15T11:54:48.035174Z",
     "shell.execute_reply": "2024-09-15T11:54:48.034053Z"
    }
   },
   "outputs": [],
   "source": [
    "analize = Analizer(0.1)\n",
    "analize.Analize()\n",
    "analize.clean_folder(subfolder=\"dataset\", extension=\"pkl\")\n",
    "analize.clean_folder(subfolder=\"results\", extension=\"xlsx\")\n",
    "analize.clean_folder(subfolder=\"results\", extension=\"txt\")\n",
    "analize.clean_folder(subfolder=\"models\", extension=\"keras\", remove_last=False)\n",
    "\n"
   ]
  }
 ],
 "metadata": {
  "kernelspec": {
   "display_name": "Python 3",
   "language": "python",
   "name": "python3"
  },
  "language_info": {
   "codemirror_mode": {
    "name": "ipython",
    "version": 3
   },
   "file_extension": ".py",
   "mimetype": "text/x-python",
   "name": "python",
   "nbconvert_exporter": "python",
   "pygments_lexer": "ipython3",
   "version": "3.10.13"
  }
 },
 "nbformat": 4,
 "nbformat_minor": 2
}
